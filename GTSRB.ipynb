{
  "cells": [
    {
      "cell_type": "code",
      "execution_count": 1,
      "id": "00b78168",
      "metadata": {
        "id": "00b78168"
      },
      "outputs": [],
      "source": [
        "# Importing dependencies\n",
        "import numpy as np\n",
        "import PIL\n",
        "import matplotlib.pyplot as plt\n",
        "from zipfile import ZipFile\n",
        "import tensorflow as tf"
      ]
    },
    {
      "cell_type": "code",
      "source": [
        "# Downloading dataset\n",
        "!gdown \"https://drive.google.com/uc?id=1fSu9gWbu4MOf7N9u7ir9D5Z6xbKJJnZp&confirm=t\""
      ],
      "metadata": {
        "id": "pYtg7mLtdmGS",
        "outputId": "d6052736-1aa7-4de4-a3eb-90c46bce4681",
        "colab": {
          "base_uri": "https://localhost:8080/"
        }
      },
      "id": "pYtg7mLtdmGS",
      "execution_count": 2,
      "outputs": [
        {
          "output_type": "stream",
          "name": "stdout",
          "text": [
            "Downloading...\n",
            "From: https://drive.google.com/uc?id=1fSu9gWbu4MOf7N9u7ir9D5Z6xbKJJnZp&confirm=t\n",
            "To: /content/GTSRB_dataset.zip\n",
            "100% 642M/642M [00:09<00:00, 70.2MB/s]\n"
          ]
        }
      ]
    },
    {
      "cell_type": "code",
      "source": [
        "# Extracting dataset\n",
        "with ZipFile(\"GTSRB_dataset.zip\", 'r') as zip:\n",
        "    print('Extracting all the files now...')\n",
        "    zip.extractall('/content/GTSRB_dataset')\n",
        "    zip.close()\n",
        "    print('Extraction done!')"
      ],
      "metadata": {
        "id": "ERN1g-pdiKka",
        "outputId": "7e43f1c0-4f73-4b45-bc72-0ee0d0eb7b95",
        "colab": {
          "base_uri": "https://localhost:8080/"
        }
      },
      "id": "ERN1g-pdiKka",
      "execution_count": 3,
      "outputs": [
        {
          "output_type": "stream",
          "name": "stdout",
          "text": [
            "Extracting all the files now...\n",
            "Extraction done!\n"
          ]
        }
      ]
    },
    {
      "cell_type": "code",
      "source": [
        "# Showing a sample image\n",
        "img = np.array(PIL.Image.open('/content/GTSRB_dataset/Train/34/00034_00010_00010.png'))\n",
        "plt.imshow(img)"
      ],
      "metadata": {
        "id": "iKVqqKf-0dX3",
        "outputId": "d4d9b256-13e1-47f8-f961-8e58a3f4ae2c",
        "colab": {
          "base_uri": "https://localhost:8080/",
          "height": 284
        }
      },
      "id": "iKVqqKf-0dX3",
      "execution_count": 19,
      "outputs": [
        {
          "output_type": "execute_result",
          "data": {
            "text/plain": [
              "<matplotlib.image.AxesImage at 0x7fe9b498da60>"
            ]
          },
          "metadata": {},
          "execution_count": 19
        },
        {
          "output_type": "display_data",
          "data": {
            "text/plain": [
              "<Figure size 432x288 with 1 Axes>"
            ],
            "image/png": "[encoded data removed]"
          },
          "metadata": {
            "needs_background": "light"
          }
        }
      ]
    }
  ],
  "metadata": {
    "kernelspec": {
      "display_name": "Python 3 (ipykernel)",
      "language": "python",
      "name": "python3"
    },
    "language_info": {
      "codemirror_mode": {
        "name": "ipython",
        "version": 3
      },
      "file_extension": ".py",
      "mimetype": "text/x-python",
      "name": "python",
      "nbconvert_exporter": "python",
      "pygments_lexer": "ipython3",
      "version": "3.10.8"
    },
    "colab": {
      "provenance": []
    }
  },
  "nbformat": 4,
  "nbformat_minor": 5
}