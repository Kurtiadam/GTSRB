{
  "cells": [
    {
      "cell_type": "code",
      "execution_count": 1,
      "id": "00b78168",
      "metadata": {
        "id": "00b78168"
      },
      "outputs": [],
      "source": [
        "import numpy as np\n",
        "import PIL\n",
        "import matplotlib.pyplot as plt\n",
        "import zipfile\n",
        "import tensorflow as tf"
      ]
    },
    {
      "cell_type": "code",
      "source": [
        "!gdown  \"https://drive.google.com/uc?id=1_P4FjYdvOBwQRJNFZoI6RuzRwIkXrlpk&confirm=t\""
      ],
      "metadata": {
        "id": "pYtg7mLtdmGS",
        "outputId": "78ae9ec9-1602-4beb-d387-ccdaa661b396",
        "colab": {
          "base_uri": "https://localhost:8080/"
        }
      },
      "id": "pYtg7mLtdmGS",
      "execution_count": 3,
      "outputs": [
        {
          "output_type": "stream",
          "name": "stdout",
          "text": [
            "Downloading...\n",
            "From: https://drive.google.com/uc?id=1_P4FjYdvOBwQRJNFZoI6RuzRwIkXrlpk&confirm=t\n",
            "To: /content/GTSRB_Final_Training_Images.zip\n",
            "100% 276M/276M [00:04<00:00, 59.3MB/s]\n"
          ]
        }
      ]
    },
    {
      "cell_type": "code",
      "source": [],
      "metadata": {
        "id": "fIar2iV_9o_r"
      },
      "id": "fIar2iV_9o_r",
      "execution_count": null,
      "outputs": []
    }
  ],
  "metadata": {
    "kernelspec": {
      "display_name": "Python 3 (ipykernel)",
      "language": "python",
      "name": "python3"
    },
    "language_info": {
      "codemirror_mode": {
        "name": "ipython",
        "version": 3
      },
      "file_extension": ".py",
      "mimetype": "text/x-python",
      "name": "python",
      "nbconvert_exporter": "python",
      "pygments_lexer": "ipython3",
      "version": "3.10.8"
    },
    "colab": {
      "provenance": []
    }
  },
  "nbformat": 4,
  "nbformat_minor": 5
}