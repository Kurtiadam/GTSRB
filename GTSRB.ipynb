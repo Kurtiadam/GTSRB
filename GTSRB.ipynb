{
  "cells": [
    {
      "cell_type": "code",
      "execution_count": 1,
      "id": "00b78168",
      "metadata": {
        "id": "00b78168"
      },
      "outputs": [],
      "source": [
        "# Importing dependencies\n",
        "import numpy as np\n",
        "import PIL\n",
        "import matplotlib.pyplot as plt\n",
        "from zipfile import ZipFile\n",
        "import tensorflow as tf"
      ]
    },
    {
      "cell_type": "code",
      "source": [
        "# Downloading dataset\n",
        "!gdown  \"https://drive.google.com/uc?id=1_P4FjYdvOBwQRJNFZoI6RuzRwIkXrlpk&confirm=t\""
      ],
      "metadata": {
        "id": "pYtg7mLtdmGS",
        "outputId": "4f369ab8-7ba7-49e4-c322-7387689acf3e",
        "colab": {
          "base_uri": "https://localhost:8080/"
        }
      },
      "id": "pYtg7mLtdmGS",
      "execution_count": 2,
      "outputs": [
        {
          "output_type": "stream",
          "name": "stdout",
          "text": [
            "Downloading...\n",
            "From: https://drive.google.com/uc?id=1_P4FjYdvOBwQRJNFZoI6RuzRwIkXrlpk&confirm=t\n",
            "To: /content/GTSRB_Final_Training_Images.zip\n",
            "100% 276M/276M [00:05<00:00, 50.3MB/s]\n"
          ]
        }
      ]
    },
    {
      "cell_type": "code",
      "source": [
        "# Extracting dataset\n",
        "with ZipFile(\"GTSRB_Final_Training_Images.zip\", 'r') as zip:\n",
        "    print('Extracting all the files now...')\n",
        "    zip.extractall()\n",
        "    print('Extraction done!')\n",
        "    zip.close()"
      ],
      "metadata": {
        "id": "ERN1g-pdiKka",
        "outputId": "667a64da-f10e-4953-f762-4355e5d66229",
        "colab": {
          "base_uri": "https://localhost:8080/"
        }
      },
      "id": "ERN1g-pdiKka",
      "execution_count": 8,
      "outputs": [
        {
          "output_type": "stream",
          "name": "stdout",
          "text": [
            "Extracting all the files now...\n",
            "Extraction done!\n"
          ]
        }
      ]
    },
    {
      "cell_type": "code",
      "source": [
        "# Showing a sample image\n",
        "img = np.array(PIL.Image.open('/content/GTSRB/Final_Training/Images/00000/00000_00000.ppm'))\n",
        "plt.imshow(img)"
      ],
      "metadata": {
        "id": "iKVqqKf-0dX3",
        "outputId": "51878a48-8cb7-413e-8e3e-aef51f35cc8f",
        "colab": {
          "base_uri": "https://localhost:8080/",
          "height": 283
        }
      },
      "id": "iKVqqKf-0dX3",
      "execution_count": 11,
      "outputs": [
        {
          "output_type": "execute_result",
          "data": {
            "text/plain": [
              "<matplotlib.image.AxesImage at 0x7f51efd63d30>"
            ]
          },
          "metadata": {},
          "execution_count": 11
        },
        {
          "output_type": "display_data",
          "data": {
            "text/plain": [
              "<Figure size 432x288 with 1 Axes>"
            ],
            "image/png": "[encoded data removed]"
          },
          "metadata": {
            "needs_background": "light"
          }
        }
      ]
    }
  ],
  "metadata": {
    "kernelspec": {
      "display_name": "Python 3 (ipykernel)",
      "language": "python",
      "name": "python3"
    },
    "language_info": {
      "codemirror_mode": {
        "name": "ipython",
        "version": 3
      },
      "file_extension": ".py",
      "mimetype": "text/x-python",
      "name": "python",
      "nbconvert_exporter": "python",
      "pygments_lexer": "ipython3",
      "version": "3.10.8"
    },
    "colab": {
      "provenance": []
    }
  },
  "nbformat": 4,
  "nbformat_minor": 5
}