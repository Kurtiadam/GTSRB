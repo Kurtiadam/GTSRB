{
  "cells": [
    {
      "cell_type": "code",
      "execution_count": 1,
      "id": "00b78168",
      "metadata": {
        "id": "00b78168"
      },
      "outputs": [],
      "source": [
        "import numpy as np\n",
        "import PIL\n",
        "import matplotlib.pyplot as plt\n",
        "import zipfile\n",
        "import tensorflow as tf"
      ]
    },
    {
      "cell_type": "code",
      "source": [
        "!gdown  https://drive.google.com/uc?id=1_P4FjYdvOBwQRJNFZoI6RuzRwIkXrlpk"
      ],
      "metadata": {
        "id": "pYtg7mLtdmGS",
        "outputId": "407ad4d3-d794-4475-9353-e505d5519e65",
        "colab": {
          "base_uri": "https://localhost:8080/"
        }
      },
      "id": "pYtg7mLtdmGS",
      "execution_count": 6,
      "outputs": [
        {
          "output_type": "stream",
          "name": "stdout",
          "text": [
            "Access denied with the following error:\n",
            "\n",
            " \tCannot retrieve the public link of the file. You may need to change\n",
            "\tthe permission to 'Anyone with the link', or have had many accesses. \n",
            "\n",
            "You may still be able to access the file from the browser:\n",
            "\n",
            "\t https://drive.google.com/uc?id=1_P4FjYdvOBwQRJNFZoI6RuzRwIkXrlpk \n",
            "\n"
          ]
        }
      ]
    }
  ],
  "metadata": {
    "kernelspec": {
      "display_name": "Python 3 (ipykernel)",
      "language": "python",
      "name": "python3"
    },
    "language_info": {
      "codemirror_mode": {
        "name": "ipython",
        "version": 3
      },
      "file_extension": ".py",
      "mimetype": "text/x-python",
      "name": "python",
      "nbconvert_exporter": "python",
      "pygments_lexer": "ipython3",
      "version": "3.10.8"
    },
    "colab": {
      "provenance": []
    }
  },
  "nbformat": 4,
  "nbformat_minor": 5
}