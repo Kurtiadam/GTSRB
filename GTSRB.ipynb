{
  "cells": [
    {
      "cell_type": "code",
      "execution_count": 3,
      "id": "00b78168",
      "metadata": {
        "id": "00b78168"
      },
      "outputs": [],
      "source": [
        "# Importing dependenices\n",
        "import numpy as np\n",
        "import PIL\n",
        "import matplotlib.pyplot as plt\n",
        "from zipfile import ZipFile\n",
        "import tensorflow as tf"
      ]
    },
    {
      "cell_type": "code",
      "source": [
        "# Downloading dataset\n",
        "!gdown  \"https://drive.google.com/uc?id=1_P4FjYdvOBwQRJNFZoI6RuzRwIkXrlpk&confirm=t\""
      ],
      "metadata": {
        "id": "pYtg7mLtdmGS",
        "outputId": "9bc5df3a-3f72-46ac-8009-e56c6f27e3d5",
        "colab": {
          "base_uri": "https://localhost:8080/"
        }
      },
      "id": "pYtg7mLtdmGS",
      "execution_count": 4,
      "outputs": [
        {
          "output_type": "stream",
          "name": "stdout",
          "text": [
            "Downloading...\n",
            "From: https://drive.google.com/uc?id=1_P4FjYdvOBwQRJNFZoI6RuzRwIkXrlpk&confirm=t\n",
            "To: /content/GTSRB_Final_Training_Images.zip\n",
            "100% 276M/276M [00:03<00:00, 71.8MB/s]\n"
          ]
        }
      ]
    },
    {
      "cell_type": "code",
      "source": [
        "# Extracting dataset\n",
        "with ZipFile(\"GTSRB_Final_Training_Images.zip\", 'r') as zip:\n",
        "    print('Extracting all the files now...')\n",
        "    zip.extractall()\n",
        "    print('Done!')"
      ],
      "metadata": {
        "id": "ERN1g-pdiKka",
        "outputId": "24f9da2c-f286-46fc-ce4f-7392d8fcc1d6",
        "colab": {
          "base_uri": "https://localhost:8080/"
        }
      },
      "id": "ERN1g-pdiKka",
      "execution_count": 5,
      "outputs": [
        {
          "output_type": "stream",
          "name": "stdout",
          "text": [
            "Extracting all the files now...\n",
            "Done!\n"
          ]
        }
      ]
    }
  ],
  "metadata": {
    "kernelspec": {
      "display_name": "Python 3 (ipykernel)",
      "language": "python",
      "name": "python3"
    },
    "language_info": {
      "codemirror_mode": {
        "name": "ipython",
        "version": 3
      },
      "file_extension": ".py",
      "mimetype": "text/x-python",
      "name": "python",
      "nbconvert_exporter": "python",
      "pygments_lexer": "ipython3",
      "version": "3.10.8"
    },
    "colab": {
      "provenance": []
    }
  },
  "nbformat": 4,
  "nbformat_minor": 5
}